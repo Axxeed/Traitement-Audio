{
 "cells": [
  {
   "cell_type": "code",
   "execution_count": 1,
   "id": "357290a5",
   "metadata": {},
   "outputs": [],
   "source": [
    "import matplotlib.pyplot as plt\n",
    "from joblib import load\n",
    "import pickle\n",
    "import numpy as np\n",
    "import pandas as pd\n",
    "from sklearn.model_selection import train_test_split\n",
    "import sounddevice as sd\n",
    "from features_functions import compute_features\n",
    "from sklearn import preprocessing\n",
    "from sklearn import svm\n",
    "from sklearn.metrics import classification_report"
   ]
  },
  {
   "cell_type": "code",
   "execution_count": 4,
   "id": "bc3ba9a4",
   "metadata": {},
   "outputs": [
    {
     "name": "stdout",
     "output_type": "stream",
     "text": [
      "50\n"
     ]
    }
   ],
   "source": [
    "\n",
    "\n",
    "# Charger les données de sinus depuis le fichier pickle\n",
    "f = open('bb1', 'rb')\n",
    "bb_data = pickle.load(f)\n",
    "\n",
    "print(len(bb_data))"
   ]
  },
  {
   "cell_type": "code",
   "execution_count": 5,
   "id": "b51dcc05",
   "metadata": {},
   "outputs": [],
   "source": [
    "%matplotlib notebook"
   ]
  },
  {
   "cell_type": "code",
   "execution_count": 6,
   "id": "3fa97098",
   "metadata": {},
   "outputs": [],
   "source": []
  },
  {
   "cell_type": "code",
   "execution_count": 7,
   "id": "b34db9d4",
   "metadata": {},
   "outputs": [
    {
     "name": "stdout",
     "output_type": "stream",
     "text": [
      "50\n"
     ]
    }
   ],
   "source": [
    "with open('sinus1', 'rb') as f1:\n",
    "    sin_data = pickle.load(f1)\n",
    "\n",
    "print(len(sin_data))"
   ]
  },
  {
   "cell_type": "code",
   "execution_count": 8,
   "id": "ce650ffe",
   "metadata": {},
   "outputs": [],
   "source": [
    "sd.play(bb_data[0], 44100)"
   ]
  },
  {
   "cell_type": "code",
   "execution_count": 9,
   "id": "db0a0e28",
   "metadata": {},
   "outputs": [
    {
     "name": "stdout",
     "output_type": "stream",
     "text": [
      "80 20 80 20\n",
      "80\n",
      "              precision    recall  f1-score   support\n",
      "\n",
      "         0.0       1.00      1.00      1.00        12\n",
      "         1.0       1.00      1.00      1.00         8\n",
      "\n",
      "    accuracy                           1.00        20\n",
      "   macro avg       1.00      1.00      1.00        20\n",
      "weighted avg       1.00      1.00      1.00        20\n",
      "\n"
     ]
    }
   ],
   "source": [
    "# Loop over the signals\n",
    "learningFeatures = []\n",
    "for k in sin_data:\n",
    "    # Compute the signal in three domains\n",
    "    sig_sq = k**2\n",
    "    sig_t = k / np.sqrt(sig_sq.sum())\n",
    "    sig_f = np.absolute(np.fft.fft(sig_t))\n",
    "    sig_c = np.absolute(np.fft.fft(sig_f))\n",
    "\n",
    "    # Compute the features and store them\n",
    "    features_list = []\n",
    "    N_feat, features_list = compute_features(sig_t, sig_f[:sig_t.shape[0]//2], sig_c[:sig_t.shape[0]//2])\n",
    "    features_vector = np.array(features_list)[np.newaxis,:]\n",
    "\n",
    "    # Store the obtained features in a np.arrays\n",
    "    learningFeatures.append(features_vector)\n",
    "    \n",
    "for i in bb_data:\n",
    "    # Compute the signal in three domains\n",
    "    sig_sq = i**2\n",
    "    sig_t = i / np.sqrt(sig_sq.sum())\n",
    "    sig_f = np.absolute(np.fft.fft(sig_t))\n",
    "    sig_c = np.absolute(np.fft.fft(sig_f))\n",
    "\n",
    "    # Compute the features and store them\n",
    "    features_list = []\n",
    "    N_feat, features_list = compute_features(sig_t, sig_f[:sig_t.shape[0]//2], sig_c[:sig_t.shape[0]//2])\n",
    "    features_vector = np.array(features_list)[np.newaxis,:]\n",
    "\n",
    "    # Store the obtained features in a np.arrays\n",
    "    learningFeatures.append(features_vector)\n",
    "    \n",
    "# Store the labels\n",
    "v = np.zeros(50)\n",
    "c = np.ones(50)\n",
    "learningLabels = np.concatenate((v, c))\n",
    "\n",
    "# Convert the learningFeatures list to a numpy array\n",
    "learningFeatures = np.asarray(learningFeatures).reshape(100, 71)\n",
    "\n",
    "# Encode the class names\n",
    "# labelEncoder = preprocessing.LabelEncoder().fit(learningLabels)\n",
    "# learningLabelsStd = labelEncoder.transform(learningLabels)\n",
    "\n",
    "# Split the data into training and testing sets\n",
    "X_train, X_test, y_train, y_test = train_test_split(learningFeatures, learningLabels, test_size=0.2, random_state=42)\n",
    "print(len(X_train),len(X_test),len(y_train),len(y_test))\n",
    "# Learn the model\n",
    "model = svm.SVC(C=10, kernel='linear', class_weight=None, probability=False)\n",
    "scaler = preprocessing.StandardScaler(with_mean=True).fit(np.squeeze(X_train))\n",
    "learningFeatures_scaled = scaler.transform(np.squeeze(X_train))\n",
    "print(len(learningFeatures_scaled))\n",
    "model.fit(learningFeatures_scaled, y_train)\n",
    "\n",
    "\n",
    "# Scale the testing features using the scaler trained on the training data\n",
    "X_test_scaled = scaler.transform(X_test)\n",
    "\n",
    "# Predict the labels for the testing set\n",
    "y_pred = model.predict(X_test_scaled)\n",
    "\n",
    "# Print the classification report\n",
    "print(classification_report(y_test, y_pred))\n",
    "\n",
    "# Export the scaler and model on disk\n",
    "# dump(scaler, \"SCALER\")\n",
    "# dump(model, \"SVM_MODEL\")\n"
   ]
  },
  {
   "cell_type": "code",
   "execution_count": null,
   "id": "cbe53213",
   "metadata": {},
   "outputs": [],
   "source": [
    "y_test"
   ]
  },
  {
   "cell_type": "code",
   "execution_count": null,
   "id": "68a3a7d4",
   "metadata": {
    "scrolled": true
   },
   "outputs": [],
   "source": []
  },
  {
   "cell_type": "code",
   "execution_count": null,
   "id": "281adc8f",
   "metadata": {},
   "outputs": [],
   "source": []
  }
 ],
 "metadata": {
  "kernelspec": {
   "display_name": "Python 3 (ipykernel)",
   "language": "python",
   "name": "python3"
  },
  "language_info": {
   "codemirror_mode": {
    "name": "ipython",
    "version": 3
   },
   "file_extension": ".py",
   "mimetype": "text/x-python",
   "name": "python",
   "nbconvert_exporter": "python",
   "pygments_lexer": "ipython3",
   "version": "3.9.16"
  }
 },
 "nbformat": 4,
 "nbformat_minor": 5
}
